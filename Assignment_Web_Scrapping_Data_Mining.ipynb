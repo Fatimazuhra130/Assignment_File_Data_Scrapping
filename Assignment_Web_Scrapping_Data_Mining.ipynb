{
 "cells": [
  {
   "cell_type": "code",
   "execution_count": 33,
   "id": "14a712dd",
   "metadata": {},
   "outputs": [],
   "source": [
    "from bs4 import BeautifulSoup\n",
    "import requests\n",
    "import pandas as pd"
   ]
  },
  {
   "cell_type": "code",
   "execution_count": 34,
   "id": "cabb7b5b",
   "metadata": {},
   "outputs": [
    {
     "data": {
      "text/plain": [
       "200"
      ]
     },
     "execution_count": 34,
     "metadata": {},
     "output_type": "execute_result"
    }
   ],
   "source": [
    "page=requests.get(\"https://en.wikipedia.org/wiki/Tahir_Allauddin_Al-Qadri_Al-Gillani\")\n",
    "page.status_code"
   ]
  },
  {
   "cell_type": "code",
   "execution_count": 35,
   "id": "93fad9bd",
   "metadata": {},
   "outputs": [],
   "source": [
    "soup=BeautifulSoup(page.content, \"html.parser\")\n",
    "title=soup.find(\"h1\" , id=\"firstHeading\").text"
   ]
  },
  {
   "cell_type": "code",
   "execution_count": 36,
   "id": "8cf6f285",
   "metadata": {},
   "outputs": [
    {
     "name": "stdout",
     "output_type": "stream",
     "text": [
      "Tahir Allauddin Al-Qadri Al-Gillani\n"
     ]
    }
   ],
   "source": [
    "print(title)"
   ]
  },
  {
   "cell_type": "code",
   "execution_count": 37,
   "id": "c5af29a5",
   "metadata": {},
   "outputs": [],
   "source": [
    "data=soup.find(\"div\",id=\"mw-content-text\").text"
   ]
  },
  {
   "cell_type": "code",
   "execution_count": 38,
   "id": "080e7469",
   "metadata": {},
   "outputs": [
    {
     "name": "stdout",
     "output_type": "stream",
     "text": [
      "Sufi saint (1932–1991)\n",
      "This article needs additional citations for verification. Please help improve this article by adding citations to reliable sources. Unsourced material may be challenged and removed.Find sources: \"Tahir Allauddin Al-Qadri Al-Gillani\" – news · newspapers · books · scholar · JSTOR (April 2013) (Learn how and when to remove this template message)\n",
      "\n",
      "\n",
      "Al-Syed Tahir Allauddin Al-Qadri Al-GillaniBorn18 June 1932 (1932-06-18)Baghdad, IraqDied7 June 1991 (1991-06-08) (aged 58)GermanyResting placeLahore, PakistanPhilosophy careerEraModern EraRegionPakistanSchoolQadiriyya Sufism\n",
      "Influences\n",
      "Shaykh Abdul Qadir al-Jilani\n",
      "\n",
      "\n",
      "Websitealgillani.com\n",
      "Tahir Allauddin Al-Gillani (السيد طاهر علاؤ الدين الجيلاني البغدادي) (11 July 1932 – 7 June 1991) formally referred to as His Holiness, Qudwatul Awliya Naqeeb ul Ashraaf Hazoor Pir Syedna Tahir Allauddin alGillani alQadri alBaghdadi, was a Sufi Saint who lived in the twentieth century and was the head of the Qadiriyya Baghdadia Spiritual Tariqa. He was the custodian of the Shrine of Ghous-e-Azam Abdul-Qadir Gilani and has been accepted by many as a reformer of Sufism.[1] Born in Baghdad on 18 June 1932, he traced his lineage by seventeen steps to Abdul-Qadir Gilani and 28 steps to the Islamic prophet Muhammad.[2]\n",
      "In 1956, Al-Gillani left Baghdad and migrated to Pakistan, where he settled permanently in Quetta. He stayed in Pakistan until the end of his life. He went to Germany for medical treatment May 1991, and died the following month. He was buried in Lahore, Pakistan. He had three sons, AlSyed Mahmood Mohyuddin Al-Gillani Al-Qadri, AlSyed Abdul Qadir Jamaluddin Al-Gillani Al-Qadri and AlSyed Muhammad Ziauddin Al-Gillani Al-Qadri, who propagate the teachings of Silsilah e Qadiriyya Tahiria.\n",
      "\n",
      "Contents\n",
      "\n",
      "1 Background and education\n",
      "2 Migration\n",
      "3 Life sketch\n",
      "4 Marriage and children\n",
      "5 Children\n",
      "6 Spiritual deputies\n",
      "7 Works\n",
      "8 See also\n",
      "9 References\n",
      "10 External links\n",
      "\n",
      "\n",
      "Background and education[edit]\n",
      "Al-Gillani came from an Iraqi family who are the custodians of the mausoleum of Abdul-Qadir Gilani. He is the youngest of the six sons of Naqeeb-ul-Ashraaf  Mahmood Hussamuddin al-Gillani al-Qadri. His grandfather, Naqeeb-ul-Ashraaf Abd Al-Rahman Al-Gillani, was the first Prime Minister of Iraq (11 November 1920 – 20 November 1922) following the dissolution of the Ottoman Empire. The current Custodian of the Shrine of Abdul-Qadir Gilani is his elder-brother, Naqib ul Ashraaf AlSyed Ahmed Zafar Al-Gillani, who also served as the ambassador of Iraq in Pakistan from 1978 until 1992.[3]\n",
      "As a child, Al-Gillani would spend the entire night alone in seclusion at the shrine of his ancestor Shaykh Abdul Qadir Gilani. He received his spiritual training and mentoring directly from his father Naqeeb-ul-Ashraaf Alsyed Mahmood Hussamuddin AlGillani Al-Qadri, who was a Sufi and the custodian of the mausoleum of Abdul-Qadir Gilani. Al-Gillani completed his other traditional religious studies at the  Madrassa of Syed Sultan Ali in Baghdad, where he studied under scholars of Iraq including Syed Ali Afridi, Qasim alQaise, Khalil ar-Ravee and the Grand Mufti of Iraq.[4]\n",
      "\n",
      "Migration[edit]\n",
      "In 1956, Al-Gillani left the city of Baghdad and migrated to Pakistan after receiving spiritual orders from Abdul Qadir Gilani. Al-Gillani first completed 40 days seclusion (Chilla) at the Shrine of the Sufi saint Data Ganj Baksh Ali Hujwiri in Lahore.[5] He then settled in Quetta, where he established the Darbar-e-Ghousia religious school.[5] In honour of Al-Gilani's presence, the government of Balochistan renamed the road to Al-Gillani Road.[6] Darbar-e-Ghousia became the official headquarters of Tariqa Qadiria in the sub-continent and is still run by the sons of Al-Gillani.[citation needed]\n",
      "He received a personal visit from President General Ayub Khan, to welcome him to Pakistan. General Ayub Khan pledged Baith (Oath of Allegiance) in the Qadiriyya Tariqa at the hands of Al-Gillani. Al-Gillani was visited by presidents, politicians, tribal leaders and religious scholars for his prayers, advice and guidance. Pakistani President Zia ul Haq is also known to have had both pledged Baith on Al-Gillani's hands, whilst leaders such as President Saddam Hussein, the Sultan of Brunei, Zulfiqar Ali Bhutto and Mian Nawaz Shareef, would visit him or stay in contact.[7]\n",
      "\n",
      "Life sketch[edit]\n",
      "Following in the footsteps of his ancestor Abdul Qadir Gilani, Al-Gillani spent the majority of his life in spiritual retreat (khalwah) and undertaking spiritual exercises (mujāhidah). There is little known about Al-Gillani's life as he would strictly forbid his followers from writing about him. Al-Gillani was very strict in adherence to the laws of Shariah and Tariqah, and until he died he worked tirelessly at propagating the teachings of his ancestor Abdul Qadir Gilani and the other Mashaikh of the Qadiriyya path. He encouraged Islamic Unity and would often speak out against acts which were considered bad innovations and rituals that had crept inside Tassawuf[5]\n",
      "Since a young age, he began touring across the world for propagating Islam and the teachings of Tariqa Qadiria. His visits included Saudi Arabia, India, Bangladesh, United Kingdom, Germany, Egypt, Canada, Indonesia, Singapore, Norway, the Netherlands, Belgium, Sri Lanka and the Persian Gulf countries.[1] During Al-Gillani's visit of Ceylon in 1958, he established a care-home in Ceylon for needy and orphaned children.\n",
      "When Al-Gillani visited India in 1952, he visited the city of Bareilly on the invitation of Mustafa Raza Khan Qadri, the Grand Mufti of India. When Al-Gillani reached Bareilly, his car was lifted by the hundreds of thousands of devotees and carried to the residence of Mufti Mustafa Raza Khan.[8] It is reported that Mufti Mustafa Raza Khan was so respectful of Al-Gillani that he remained barefoot for the duration of his stay and would stand to serve him. On this occasion, Maulana Mustafa Raza Khan also made several of his family members pledge Baith on the hands of Al-Gillani including the later Grand Mufti of India Mufti Akhtar Raza Khan.[9] During this visit to India, Al-Gillani  was visited by the heads of major Sufi Tariqas situated here, including Abdul Qadeer Badayuni Qadri and Muhammad Abdul Qadeer Siddiqi Qadri.\n",
      "In the 1960s, Al-Gillani was invited to the city of Faisalabad by the grand scholar of Pakistan Muhadith e Azam e Pakistan Maulana Sardar Ahmed Qadri to attend the opening ceremony of Jamia Amjadia Rizvia. To welcome Al-Gillani and for his protocol, Maulana Sardar Ahmed Qadri arranged for rolls of white silk to be spread the entire journey from his madrasah to the Railway Station. It is reported that a small spot had been left uncovered near the door of the madrasah and Maulana Sardar Ahmed Qadri kneeled down and used his own beard to sweep this area clean.[9]\n",
      "After a three-storey stage was erected, Al-Gillani was seated at the top and covered in rose petals, and Maulana Sardar Ahmed Qadri and other sheikhs sat beneath his feet on the second storey and Maulana Sardar Ahmed placed his own sons and students on the last level. At the conclusion of the gathering, the crowds were uncontrollable as they rushed in the hope of meeting or touching Al-Gilani so Maulana Sardar Ahmed ordered for a side wall had to be demolished so Al-Gillani could leave safely.[9]\n",
      "Al-Gillani would be invited as main guest to conferences and events, being held both nationally and internationally. These include the International Khatm e Nabuwat Conference held at Minar e Pakistan, the inauguration of Minhaj-ul-Quran International held at Lahore in 1984, the International Minhaj-ul-Quran Conference held at Lahore in 1987, the Al-Hejaz Conference held in London and the historic International Minhaj ul Quran Conference held at Wembley Arena, London in 1988 [10]\n",
      "\n",
      "Marriage and children[edit]\n",
      "Al-Gillani married the Princess of Kalat Princess Munawar Sultan – the daughter of Khan-e-Azzam Mir Ahmad Yaar Khan of Kalat. From this marriage, Tahir Allauddin Al-Qadri Al-Gillani has three Sons and Three Daughters.[1]\n",
      "\n",
      "AlSyed Mahmood Mohyuddin Al-Gillani (born 14 July 1968)\n",
      "AlSyed Abdul Qadir Jamaluddin Al-Gillani (born on 4 June 1969)\n",
      "AlSyed Muhammad Ziauddin Al-Gillani (born on 28 May 1976)\n",
      "Children[edit]\n",
      "The three sons follow in the footsteps of their father and ancestors and have devoted their lives for the propagation of Tariqa e Qadiriah. For this purpose, they visit places across Pakistan and beyond and administer Baith in Silsilah e Qadiria Tahiria.\n",
      "\n",
      "The eldest son, AlSyed Mahmood Mohyuddin Al-Gillani was born on 14 July 1968. He has three sons; AlSyed Tahir Hussamuddin Al-Gillani, AlSyed Abdur Rehman Saifuddin Al-Gillani and AlSyed Ahmed Nooruddin Al-Gillani. AlSyed Mahmood Mohyuddin Al-Gillani has devoted his time to the spiritual training and welfare of his followers. He has a circle of tens of thousands of followers across the world and annually on occasions such as Laylatul Qadar, thousands of people visit the shrine of Al-Gillani in Lahore to pledge baith on his hands.\n",
      "The middle son, AlSyed Abdul Qadir Jamaluddin Al-Gillani was born on 4 June 1969. He has one son, Yahya Shamsuddin Al-Gillani who was born on 22 February 2010. He completed his M.A in English and Foreign Affairs and is a Minister of the National Assembly (MNA).[11] He travels across Pakistan and the rest of the world for propagating the teachings of Tariqa Qadiria. AlSyed Abdul Qadir Jamaluddin Al-Gillani has a circle of followers across the world, who visit him for his prayers, help and guidance. People from all walks of life flock to the official family residence in Karachi (Al-Gilani House), to see him and pledge baith at his hands.\n",
      "The youngest son, AlSyed Muhammad Ziauddin A-Gillani was born on 28 May 1976. He has one son, AlSyed Tahir Allauddin Al-Gillani who was born on 12 June 2008. He has completed his M.A in Pakistani Studies in addition to gaining a LLB. AlSyed Muhammad Ziauddin Al-Gillani spends most of his time in Khalwa (Spiritual Seclusion) at Quetta, but from time to time tours overseas for the propagation of Tariqa e Qadiria. He also has a large circle of devotees across the world.\n",
      "Spiritual deputies[edit]\n",
      "In 2007, Al-Gillani's Son AlSyed Muhammad Ziauddin Al-Qadri Al-Gillani inaugurated Darbar-e-Ghousia Qadiria Tahiria in Bradford, England.[12] This Darbar is run under the guidance of Syed Khalid Ali Tahiri Qadri (Sajjada Nasheen Darbar-e-Ghousia Qadiria Tahiria UK) after receiving approval from all three sons of Al-Gillani.[13] Syed Khalid Ali Tahiri Qadri is one of the closest students of Al-Gilani and has received his spiritual training and authorisation directly from him.[13] He began serving Al-Gilani at a young age, and was appointed as personal tutor to AlSyed Muhammad Ziauddin Al-Qadri Al-Gillani during his childhood.[13] Syed Khalid Tahiri is the only representative of al-Gillani in the United Kingdom, Europe, and the United States.[13]\n",
      "In 2011, AlSyed Muhammad Ziauddin Al-Qadri Al-Gillani visited Bradford for a second occasion, where he presided over a conference that has been held annually by Syed Khalid Ali Tahiri to commemorate the death anniversary of his Shaykh AlSyed Tahir Allauddin Al-Gillani[14] During this visit, he also visited Darbar-e-Ghousia Qadiria Tahiria UK and the residence of Syed Khalid Ali Tahiri.[15]\n",
      "\n",
      "Works[edit]\n",
      "Al-Gillani authored books during his stay in Pakistan. Some of his books are:\n",
      "\n",
      "Mahboob Subhani\n",
      "Tuhfa Al-Tahiria Aowrad Al-Qadria\n",
      "Ghous Al Azam (English)\n",
      "Shajrah\n",
      "Ziaraat Muqamaat Muqadassa\n",
      "Tazkarah-e-Qadriah  (Urdu and Pushto)\n",
      "Wazaif-e-Qadriah (Urdu)\n",
      "Nimaz Book (Urdu)\n",
      "[1]\n",
      "\n",
      "See also[edit]\n",
      "Abdul-Qadir Gilani\n",
      "Abd Al-Rahman Al-Gillani\n",
      "Islamic scholars\n",
      "References[edit]\n",
      "\n",
      "\n",
      "^ a b c d \"Spiritual Master Tahir Alauddin By: Yahya Hussain - Articles Detail\". thefinancialdaily.com. Archived from the original on 4 March 2016. Retrieved 5 September 2015.\n",
      "\n",
      "^ http://www.gilani.com.pk/sufies/tahir.htm Archived 21 December 2007 at the Wayback Machine\n",
      "\n",
      "^ \"gilanisyeds.com - This website is for sale! - gilanisyeds Resources and Information\". gilanisyeds.com. Retrieved 5 September 2015. {{cite web}}: Cite uses generic title (help)\n",
      "\n",
      "^ Tazkira e Qadiria. 1991.\n",
      "\n",
      "^ a b c Qudwatul Awliya. 1996.\n",
      "\n",
      "^ \"Share Al Gilani, Balochistan, Pakistan - Satellite Image, Street View and Map\". earthstreetview.com. Retrieved 5 September 2015.\n",
      "\n",
      "^ \"algillani.com\". algillani.com. Retrieved 11 July 2019.\n",
      "\n",
      "^ https://fbcdn-sphotos-h-a.akamaihd.net/hphotos-ak-ash3/644192_455297664553207_231134639_n.jpg[bare URL image file]\n",
      "\n",
      "^ a b c Tazkira e Awliya Hyderabad. 1992.\n",
      "\n",
      "^ \"3/4: Yaadain Hazoor Qudwatul Awliya Syedna Tahir Alauddin(ra)\". YouTube. 22 June 2012. Archived from the original on 21 December 2021. Retrieved 27 April 2013.\n",
      "\n",
      "^ \"National Assembly of Pakistan\". Na.gov.pk. Retrieved 27 April 2013.\n",
      "\n",
      "^ \"H.H Hazoor Pir Al-Syed Muhammad Ziauddin Al-Gillani Al-Qadri (Inaugration of Darbar e Ghousia)\". YouTube. 18 November 2008. Archived from the original on 21 December 2021. Retrieved 27 April 2013.\n",
      "\n",
      "^ a b c d The Urdu Times Newspaper NY 10 July 2013\n",
      "\n",
      "^ Video on YouTube\n",
      "\n",
      "^ Video on YouTube\n",
      "\n",
      "\n",
      "External links[edit]\n",
      "Official website of Silsilah Qadria Baghdad\n",
      "\n",
      "\n",
      "\n",
      "\n",
      "Retrieved from \"https://en.wikipedia.org/w/index.php?title=Tahir_Allauddin_Al-Qadri_Al-Gillani&oldid=1088509930\"\n"
     ]
    }
   ],
   "source": [
    "print(data)"
   ]
  },
  {
   "cell_type": "code",
   "execution_count": 39,
   "id": "b1adfaee",
   "metadata": {},
   "outputs": [],
   "source": [
    "data = pd.read_excel(\"data_assignment.xlsx\")"
   ]
  },
  {
   "cell_type": "code",
   "execution_count": 40,
   "id": "d4e98115",
   "metadata": {},
   "outputs": [
    {
     "data": {
      "text/html": [
       "<div>\n",
       "<style scoped>\n",
       "    .dataframe tbody tr th:only-of-type {\n",
       "        vertical-align: middle;\n",
       "    }\n",
       "\n",
       "    .dataframe tbody tr th {\n",
       "        vertical-align: top;\n",
       "    }\n",
       "\n",
       "    .dataframe thead th {\n",
       "        text-align: right;\n",
       "    }\n",
       "</style>\n",
       "<table border=\"1\" class=\"dataframe\">\n",
       "  <thead>\n",
       "    <tr style=\"text-align: right;\">\n",
       "      <th></th>\n",
       "      <th>Content</th>\n",
       "    </tr>\n",
       "  </thead>\n",
       "  <tbody>\n",
       "    <tr>\n",
       "      <th>0</th>\n",
       "      <td>1Background and education</td>\n",
       "    </tr>\n",
       "    <tr>\n",
       "      <th>1</th>\n",
       "      <td>2Migration</td>\n",
       "    </tr>\n",
       "    <tr>\n",
       "      <th>2</th>\n",
       "      <td>3Life sketch</td>\n",
       "    </tr>\n",
       "    <tr>\n",
       "      <th>3</th>\n",
       "      <td>4Marriage and children</td>\n",
       "    </tr>\n",
       "    <tr>\n",
       "      <th>4</th>\n",
       "      <td>5Children</td>\n",
       "    </tr>\n",
       "    <tr>\n",
       "      <th>5</th>\n",
       "      <td>6Spiritual deputies</td>\n",
       "    </tr>\n",
       "    <tr>\n",
       "      <th>6</th>\n",
       "      <td>7Works</td>\n",
       "    </tr>\n",
       "    <tr>\n",
       "      <th>7</th>\n",
       "      <td>8See also</td>\n",
       "    </tr>\n",
       "    <tr>\n",
       "      <th>8</th>\n",
       "      <td>9References</td>\n",
       "    </tr>\n",
       "    <tr>\n",
       "      <th>9</th>\n",
       "      <td>10External links</td>\n",
       "    </tr>\n",
       "  </tbody>\n",
       "</table>\n",
       "</div>"
      ],
      "text/plain": [
       "                     Content\n",
       "0  1Background and education\n",
       "1                 2Migration\n",
       "2               3Life sketch\n",
       "3     4Marriage and children\n",
       "4                  5Children\n",
       "5        6Spiritual deputies\n",
       "6                     7Works\n",
       "7                  8See also\n",
       "8                9References\n",
       "9           10External links"
      ]
     },
     "execution_count": 40,
     "metadata": {},
     "output_type": "execute_result"
    }
   ],
   "source": [
    "data"
   ]
  },
  {
   "cell_type": "code",
   "execution_count": 41,
   "id": "30499496",
   "metadata": {},
   "outputs": [
    {
     "data": {
      "text/plain": [
       "0    1Background and education\n",
       "1                   2Migration\n",
       "2                 3Life sketch\n",
       "3       4Marriage and children\n",
       "4                    5Children\n",
       "5          6Spiritual deputies\n",
       "6                       7Works\n",
       "7                    8See also\n",
       "8                  9References\n",
       "9             10External links\n",
       "Name: Content, dtype: object"
      ]
     },
     "execution_count": 41,
     "metadata": {},
     "output_type": "execute_result"
    }
   ],
   "source": [
    "data['Content']"
   ]
  },
  {
   "cell_type": "code",
   "execution_count": 42,
   "id": "53a9d205",
   "metadata": {},
   "outputs": [
    {
     "data": {
      "text/plain": [
       "0    1Background_and_education\n",
       "1                   2Migration\n",
       "2                 3Life_sketch\n",
       "3       4Marriage_and_children\n",
       "4                    5Children\n",
       "5          6Spiritual_deputies\n",
       "6                       7Works\n",
       "7                    8See_also\n",
       "8                  9References\n",
       "9             10External_links\n",
       "Name: Contents, dtype: object"
      ]
     },
     "execution_count": 42,
     "metadata": {},
     "output_type": "execute_result"
    }
   ],
   "source": [
    "data['Contents']=data['Content'].str.replace(\" \",\"_\")\n",
    "data['Contents']"
   ]
  },
  {
   "cell_type": "code",
   "execution_count": 43,
   "id": "d8cc0172",
   "metadata": {},
   "outputs": [],
   "source": [
    " def change(val):\n",
    "    val2=val.split(\" \")\n",
    "    val2=\"_\".join(val2)\n",
    "    print(val2)\n",
    "    return val2"
   ]
  },
  {
   "cell_type": "code",
   "execution_count": 44,
   "id": "760eb139",
   "metadata": {},
   "outputs": [
    {
     "name": "stdout",
     "output_type": "stream",
     "text": [
      "1Background_and_education\n",
      "2Migration\n",
      "3Life_sketch\n",
      "4Marriage_and_children\n",
      "5Children\n",
      "6Spiritual_deputies\n",
      "7Works\n",
      "8See_also\n",
      "9References\n",
      "10External_links\n"
     ]
    }
   ],
   "source": [
    "data['Content New']=data['Content'].apply(change)"
   ]
  },
  {
   "cell_type": "code",
   "execution_count": 45,
   "id": "f230705e",
   "metadata": {},
   "outputs": [
    {
     "data": {
      "text/html": [
       "<div>\n",
       "<style scoped>\n",
       "    .dataframe tbody tr th:only-of-type {\n",
       "        vertical-align: middle;\n",
       "    }\n",
       "\n",
       "    .dataframe tbody tr th {\n",
       "        vertical-align: top;\n",
       "    }\n",
       "\n",
       "    .dataframe thead th {\n",
       "        text-align: right;\n",
       "    }\n",
       "</style>\n",
       "<table border=\"1\" class=\"dataframe\">\n",
       "  <thead>\n",
       "    <tr style=\"text-align: right;\">\n",
       "      <th></th>\n",
       "      <th>Content</th>\n",
       "      <th>Contents</th>\n",
       "      <th>Content New</th>\n",
       "    </tr>\n",
       "  </thead>\n",
       "  <tbody>\n",
       "    <tr>\n",
       "      <th>0</th>\n",
       "      <td>1Background and education</td>\n",
       "      <td>1Background_and_education</td>\n",
       "      <td>1Background_and_education</td>\n",
       "    </tr>\n",
       "    <tr>\n",
       "      <th>1</th>\n",
       "      <td>2Migration</td>\n",
       "      <td>2Migration</td>\n",
       "      <td>2Migration</td>\n",
       "    </tr>\n",
       "    <tr>\n",
       "      <th>2</th>\n",
       "      <td>3Life sketch</td>\n",
       "      <td>3Life_sketch</td>\n",
       "      <td>3Life_sketch</td>\n",
       "    </tr>\n",
       "    <tr>\n",
       "      <th>3</th>\n",
       "      <td>4Marriage and children</td>\n",
       "      <td>4Marriage_and_children</td>\n",
       "      <td>4Marriage_and_children</td>\n",
       "    </tr>\n",
       "    <tr>\n",
       "      <th>4</th>\n",
       "      <td>5Children</td>\n",
       "      <td>5Children</td>\n",
       "      <td>5Children</td>\n",
       "    </tr>\n",
       "  </tbody>\n",
       "</table>\n",
       "</div>"
      ],
      "text/plain": [
       "                     Content                   Contents  \\\n",
       "0  1Background and education  1Background_and_education   \n",
       "1                 2Migration                 2Migration   \n",
       "2               3Life sketch               3Life_sketch   \n",
       "3     4Marriage and children     4Marriage_and_children   \n",
       "4                  5Children                  5Children   \n",
       "\n",
       "                 Content New  \n",
       "0  1Background_and_education  \n",
       "1                 2Migration  \n",
       "2               3Life_sketch  \n",
       "3     4Marriage_and_children  \n",
       "4                  5Children  "
      ]
     },
     "execution_count": 45,
     "metadata": {},
     "output_type": "execute_result"
    }
   ],
   "source": [
    "data.head()"
   ]
  },
  {
   "cell_type": "code",
   "execution_count": 46,
   "id": "e89b13cd",
   "metadata": {},
   "outputs": [],
   "source": [
    "names=list(data['Content'])"
   ]
  },
  {
   "cell_type": "code",
   "execution_count": 47,
   "id": "c8432cf1",
   "metadata": {},
   "outputs": [
    {
     "data": {
      "text/plain": [
       "['1Background and education',\n",
       " '2Migration',\n",
       " '3Life sketch',\n",
       " '4Marriage and children',\n",
       " '5Children',\n",
       " '6Spiritual deputies',\n",
       " '7Works',\n",
       " '8See also',\n",
       " '9References',\n",
       " '10External links']"
      ]
     },
     "execution_count": 47,
     "metadata": {},
     "output_type": "execute_result"
    }
   ],
   "source": [
    "names"
   ]
  },
  {
   "cell_type": "code",
   "execution_count": 48,
   "id": "91054b1d",
   "metadata": {},
   "outputs": [
    {
     "name": "stdout",
     "output_type": "stream",
     "text": [
      "[None, None, None, None, None, None, None, None, None, None]\n"
     ]
    }
   ],
   "source": [
    "titles = []\n",
    "data2 = []\n",
    "for i in names:\n",
    "    page = requests.get(f\"https://en.wikipedia.org/wiki/{i}\")\n",
    "    soup = BeautifulSoup(page.content,'html.parser')\n",
    "      \n",
    "    title = soup.find(\"h1\", id=\"firstheading\")\n",
    "    content = soup.find(\"div\", id=\"mw-content-text\").text\n",
    "    titles.append(title)\n",
    "    data2.append(content)\n",
    "    \n",
    "print(titles)"
   ]
  },
  {
   "cell_type": "code",
   "execution_count": 63,
   "id": "4b711ef0",
   "metadata": {},
   "outputs": [
    {
     "name": "stdout",
     "output_type": "stream",
     "text": [
      "['\\n\\nLook for 1Background and education on one of Wikipedia\\'s sister projects:\\n\\n\\n\\n\\nWiktionary (dictionary)\\n\\n\\n\\nWikibooks (textbooks)\\n\\n\\n\\nWikiquote (quotations)\\n\\n\\n\\nWikisource (library)\\n\\n\\n\\nWikiversity (learning resources)\\n\\n\\n\\nCommons (media)\\n\\n\\n\\nWikivoyage (travel guide)\\n\\n\\n\\nWikinews (news source)\\n\\n\\n\\nWikidata (linked database)\\n\\n\\n\\nWikispecies (species directory)\\n\\n\\n\\nWikipedia does not have an article with this exact name. Please search for 1Background and education in Wikipedia to check for alternative titles or spellings.\\nYou need to log in or create an account to create this page.\\nSearch for \"1Background and education\" in existing articles.\\nLook for pages within Wikipedia that link to this title.\\n\\n\\nOther reasons this message may be displayed:\\n\\nIf a page was recently created here, it may not be visible yet because of a delay in updating the database; wait a few minutes or try the purge function.\\nTitles on Wikipedia are case sensitive except for the first character; please check alternative capitalizations and consider adding a redirect here to the correct title.\\nIf the page has been deleted, check the deletion log, and see Why was the page I created deleted?.\\n\\n\\n\\nRetrieved from \"https://en.wikipedia.org/wiki/1Background_and_education\"', '\\n\\nLook for 2Migration on one of Wikipedia\\'s sister projects:\\n\\n\\n\\n\\nWiktionary (dictionary)\\n\\n\\n\\nWikibooks (textbooks)\\n\\n\\n\\nWikiquote (quotations)\\n\\n\\n\\nWikisource (library)\\n\\n\\n\\nWikiversity (learning resources)\\n\\n\\n\\nCommons (media)\\n\\n\\n\\nWikivoyage (travel guide)\\n\\n\\n\\nWikinews (news source)\\n\\n\\n\\nWikidata (linked database)\\n\\n\\n\\nWikispecies (species directory)\\n\\n\\n\\nWikipedia does not have an article with this exact name. Please search for 2Migration in Wikipedia to check for alternative titles or spellings.\\nYou need to log in or create an account to create this page.\\nSearch for \"2Migration\" in existing articles.\\nLook for pages within Wikipedia that link to this title.\\n\\n\\nOther reasons this message may be displayed:\\n\\nIf a page was recently created here, it may not be visible yet because of a delay in updating the database; wait a few minutes or try the purge function.\\nTitles on Wikipedia are case sensitive except for the first character; please check alternative capitalizations and consider adding a redirect here to the correct title.\\nIf the page has been deleted, check the deletion log, and see Why was the page I created deleted?.\\n\\n\\n\\nRetrieved from \"https://en.wikipedia.org/wiki/2Migration\"', '\\n\\nLook for 3Life sketch on one of Wikipedia\\'s sister projects:\\n\\n\\n\\n\\nWiktionary (dictionary)\\n\\n\\n\\nWikibooks (textbooks)\\n\\n\\n\\nWikiquote (quotations)\\n\\n\\n\\nWikisource (library)\\n\\n\\n\\nWikiversity (learning resources)\\n\\n\\n\\nCommons (media)\\n\\n\\n\\nWikivoyage (travel guide)\\n\\n\\n\\nWikinews (news source)\\n\\n\\n\\nWikidata (linked database)\\n\\n\\n\\nWikispecies (species directory)\\n\\n\\n\\nWikipedia does not have an article with this exact name. Please search for 3Life sketch in Wikipedia to check for alternative titles or spellings.\\nYou need to log in or create an account to create this page.\\nSearch for \"3Life sketch\" in existing articles.\\nLook for pages within Wikipedia that link to this title.\\n\\n\\nOther reasons this message may be displayed:\\n\\nIf a page was recently created here, it may not be visible yet because of a delay in updating the database; wait a few minutes or try the purge function.\\nTitles on Wikipedia are case sensitive except for the first character; please check alternative capitalizations and consider adding a redirect here to the correct title.\\nIf the page has been deleted, check the deletion log, and see Why was the page I created deleted?.\\n\\n\\n\\nRetrieved from \"https://en.wikipedia.org/wiki/3Life_sketch\"', '\\n\\nLook for 4Marriage and children on one of Wikipedia\\'s sister projects:\\n\\n\\n\\n\\nWiktionary (dictionary)\\n\\n\\n\\nWikibooks (textbooks)\\n\\n\\n\\nWikiquote (quotations)\\n\\n\\n\\nWikisource (library)\\n\\n\\n\\nWikiversity (learning resources)\\n\\n\\n\\nCommons (media)\\n\\n\\n\\nWikivoyage (travel guide)\\n\\n\\n\\nWikinews (news source)\\n\\n\\n\\nWikidata (linked database)\\n\\n\\n\\nWikispecies (species directory)\\n\\n\\n\\nWikipedia does not have an article with this exact name. Please search for 4Marriage and children in Wikipedia to check for alternative titles or spellings.\\nYou need to log in or create an account to create this page.\\nSearch for \"4Marriage and children\" in existing articles.\\nLook for pages within Wikipedia that link to this title.\\n\\n\\nOther reasons this message may be displayed:\\n\\nIf a page was recently created here, it may not be visible yet because of a delay in updating the database; wait a few minutes or try the purge function.\\nTitles on Wikipedia are case sensitive except for the first character; please check alternative capitalizations and consider adding a redirect here to the correct title.\\nIf the page has been deleted, check the deletion log, and see Why was the page I created deleted?.\\n\\n\\n\\nRetrieved from \"https://en.wikipedia.org/wiki/4Marriage_and_children\"', '\\n\\nLook for 5Children on one of Wikipedia\\'s sister projects:\\n\\n\\n\\n\\nWiktionary (dictionary)\\n\\n\\n\\nWikibooks (textbooks)\\n\\n\\n\\nWikiquote (quotations)\\n\\n\\n\\nWikisource (library)\\n\\n\\n\\nWikiversity (learning resources)\\n\\n\\n\\nCommons (media)\\n\\n\\n\\nWikivoyage (travel guide)\\n\\n\\n\\nWikinews (news source)\\n\\n\\n\\nWikidata (linked database)\\n\\n\\n\\nWikispecies (species directory)\\n\\n\\n\\nWikipedia does not have an article with this exact name. Please search for 5Children in Wikipedia to check for alternative titles or spellings.\\nYou need to log in or create an account to create this page.\\nSearch for \"5Children\" in existing articles.\\nLook for pages within Wikipedia that link to this title.\\n\\n\\nOther reasons this message may be displayed:\\n\\nIf a page was recently created here, it may not be visible yet because of a delay in updating the database; wait a few minutes or try the purge function.\\nTitles on Wikipedia are case sensitive except for the first character; please check alternative capitalizations and consider adding a redirect here to the correct title.\\nIf the page has been deleted, check the deletion log, and see Why was the page I created deleted?.\\n\\n\\n\\nRetrieved from \"https://en.wikipedia.org/wiki/5Children\"', '\\n\\nLook for 6Spiritual deputies on one of Wikipedia\\'s sister projects:\\n\\n\\n\\n\\nWiktionary (dictionary)\\n\\n\\n\\nWikibooks (textbooks)\\n\\n\\n\\nWikiquote (quotations)\\n\\n\\n\\nWikisource (library)\\n\\n\\n\\nWikiversity (learning resources)\\n\\n\\n\\nCommons (media)\\n\\n\\n\\nWikivoyage (travel guide)\\n\\n\\n\\nWikinews (news source)\\n\\n\\n\\nWikidata (linked database)\\n\\n\\n\\nWikispecies (species directory)\\n\\n\\n\\nWikipedia does not have an article with this exact name. Please search for 6Spiritual deputies in Wikipedia to check for alternative titles or spellings.\\nYou need to log in or create an account to create this page.\\nSearch for \"6Spiritual deputies\" in existing articles.\\nLook for pages within Wikipedia that link to this title.\\n\\n\\nOther reasons this message may be displayed:\\n\\nIf a page was recently created here, it may not be visible yet because of a delay in updating the database; wait a few minutes or try the purge function.\\nTitles on Wikipedia are case sensitive except for the first character; please check alternative capitalizations and consider adding a redirect here to the correct title.\\nIf the page has been deleted, check the deletion log, and see Why was the page I created deleted?.\\n\\n\\n\\nRetrieved from \"https://en.wikipedia.org/wiki/6Spiritual_deputies\"', '\\n\\nLook for 7Works on one of Wikipedia\\'s sister projects:\\n\\n\\n\\n\\nWiktionary (dictionary)\\n\\n\\n\\nWikibooks (textbooks)\\n\\n\\n\\nWikiquote (quotations)\\n\\n\\n\\nWikisource (library)\\n\\n\\n\\nWikiversity (learning resources)\\n\\n\\n\\nCommons (media)\\n\\n\\n\\nWikivoyage (travel guide)\\n\\n\\n\\nWikinews (news source)\\n\\n\\n\\nWikidata (linked database)\\n\\n\\n\\nWikispecies (species directory)\\n\\n\\n\\nWikipedia does not have an article with this exact name. Please search for 7Works in Wikipedia to check for alternative titles or spellings.\\nYou need to log in or create an account to create this page.\\nSearch for \"7Works\" in existing articles.\\nLook for pages within Wikipedia that link to this title.\\n\\n\\nOther reasons this message may be displayed:\\n\\nIf a page was recently created here, it may not be visible yet because of a delay in updating the database; wait a few minutes or try the purge function.\\nTitles on Wikipedia are case sensitive except for the first character; please check alternative capitalizations and consider adding a redirect here to the correct title.\\nIf the page has been deleted, check the deletion log, and see Why was the page I created deleted?.\\n\\n\\n\\nRetrieved from \"https://en.wikipedia.org/wiki/7Works\"', '\\n\\nLook for 8See also on one of Wikipedia\\'s sister projects:\\n\\n\\n\\n\\nWiktionary (dictionary)\\n\\n\\n\\nWikibooks (textbooks)\\n\\n\\n\\nWikiquote (quotations)\\n\\n\\n\\nWikisource (library)\\n\\n\\n\\nWikiversity (learning resources)\\n\\n\\n\\nCommons (media)\\n\\n\\n\\nWikivoyage (travel guide)\\n\\n\\n\\nWikinews (news source)\\n\\n\\n\\nWikidata (linked database)\\n\\n\\n\\nWikispecies (species directory)\\n\\n\\n\\nWikipedia does not have an article with this exact name. Please search for 8See also in Wikipedia to check for alternative titles or spellings.\\nYou need to log in or create an account to create this page.\\nSearch for \"8See also\" in existing articles.\\nLook for pages within Wikipedia that link to this title.\\n\\n\\nOther reasons this message may be displayed:\\n\\nIf a page was recently created here, it may not be visible yet because of a delay in updating the database; wait a few minutes or try the purge function.\\nTitles on Wikipedia are case sensitive except for the first character; please check alternative capitalizations and consider adding a redirect here to the correct title.\\nIf the page has been deleted, check the deletion log, and see Why was the page I created deleted?.\\n\\n\\n\\nRetrieved from \"https://en.wikipedia.org/wiki/8See_also\"', '\\n\\nLook for 9References on one of Wikipedia\\'s sister projects:\\n\\n\\n\\n\\nWiktionary (dictionary)\\n\\n\\n\\nWikibooks (textbooks)\\n\\n\\n\\nWikiquote (quotations)\\n\\n\\n\\nWikisource (library)\\n\\n\\n\\nWikiversity (learning resources)\\n\\n\\n\\nCommons (media)\\n\\n\\n\\nWikivoyage (travel guide)\\n\\n\\n\\nWikinews (news source)\\n\\n\\n\\nWikidata (linked database)\\n\\n\\n\\nWikispecies (species directory)\\n\\n\\n\\nWikipedia does not have an article with this exact name. Please search for 9References in Wikipedia to check for alternative titles or spellings.\\nYou need to log in or create an account to create this page.\\nSearch for \"9References\" in existing articles.\\nLook for pages within Wikipedia that link to this title.\\n\\n\\nOther reasons this message may be displayed:\\n\\nIf a page was recently created here, it may not be visible yet because of a delay in updating the database; wait a few minutes or try the purge function.\\nTitles on Wikipedia are case sensitive except for the first character; please check alternative capitalizations and consider adding a redirect here to the correct title.\\nIf the page has been deleted, check the deletion log, and see Why was the page I created deleted?.\\n\\n\\n\\nRetrieved from \"https://en.wikipedia.org/wiki/9References\"', '\\n\\nLook for 10External links on one of Wikipedia\\'s sister projects:\\n\\n\\n\\n\\nWiktionary (dictionary)\\n\\n\\n\\nWikibooks (textbooks)\\n\\n\\n\\nWikiquote (quotations)\\n\\n\\n\\nWikisource (library)\\n\\n\\n\\nWikiversity (learning resources)\\n\\n\\n\\nCommons (media)\\n\\n\\n\\nWikivoyage (travel guide)\\n\\n\\n\\nWikinews (news source)\\n\\n\\n\\nWikidata (linked database)\\n\\n\\n\\nWikispecies (species directory)\\n\\n\\n\\nWikipedia does not have an article with this exact name. Please search for 10External links in Wikipedia to check for alternative titles or spellings.\\nYou need to log in or create an account to create this page.\\nSearch for \"10External links\" in existing articles.\\nLook for pages within Wikipedia that link to this title.\\n\\n\\nOther reasons this message may be displayed:\\n\\nIf a page was recently created here, it may not be visible yet because of a delay in updating the database; wait a few minutes or try the purge function.\\nTitles on Wikipedia are case sensitive except for the first character; please check alternative capitalizations and consider adding a redirect here to the correct title.\\nIf the page has been deleted, check the deletion log, and see Why was the page I created deleted?.\\n\\n\\n\\nRetrieved from \"https://en.wikipedia.org/wiki/10External_links\"']\n"
     ]
    }
   ],
   "source": [
    "print(data2)"
   ]
  },
  {
   "cell_type": "code",
   "execution_count": 64,
   "id": "3bc22337",
   "metadata": {},
   "outputs": [],
   "source": [
    "all_data = {\"Name\":names, \"data\":data2}"
   ]
  },
  {
   "cell_type": "code",
   "execution_count": 65,
   "id": "c0f668f1",
   "metadata": {},
   "outputs": [
    {
     "data": {
      "text/plain": [
       "{'Name': ['1Background and education',\n",
       "  '2Migration',\n",
       "  '3Life sketch',\n",
       "  '4Marriage and children',\n",
       "  '5Children',\n",
       "  '6Spiritual deputies',\n",
       "  '7Works',\n",
       "  '8See also',\n",
       "  '9References',\n",
       "  '10External links'],\n",
       " 'data': ['\\n\\nLook for 1Background and education on one of Wikipedia\\'s sister projects:\\n\\n\\n\\n\\nWiktionary (dictionary)\\n\\n\\n\\nWikibooks (textbooks)\\n\\n\\n\\nWikiquote (quotations)\\n\\n\\n\\nWikisource (library)\\n\\n\\n\\nWikiversity (learning resources)\\n\\n\\n\\nCommons (media)\\n\\n\\n\\nWikivoyage (travel guide)\\n\\n\\n\\nWikinews (news source)\\n\\n\\n\\nWikidata (linked database)\\n\\n\\n\\nWikispecies (species directory)\\n\\n\\n\\nWikipedia does not have an article with this exact name. Please search for 1Background and education in Wikipedia to check for alternative titles or spellings.\\nYou need to log in or create an account to create this page.\\nSearch for \"1Background and education\" in existing articles.\\nLook for pages within Wikipedia that link to this title.\\n\\n\\nOther reasons this message may be displayed:\\n\\nIf a page was recently created here, it may not be visible yet because of a delay in updating the database; wait a few minutes or try the purge function.\\nTitles on Wikipedia are case sensitive except for the first character; please check alternative capitalizations and consider adding a redirect here to the correct title.\\nIf the page has been deleted, check the deletion log, and see Why was the page I created deleted?.\\n\\n\\n\\nRetrieved from \"https://en.wikipedia.org/wiki/1Background_and_education\"',\n",
       "  '\\n\\nLook for 2Migration on one of Wikipedia\\'s sister projects:\\n\\n\\n\\n\\nWiktionary (dictionary)\\n\\n\\n\\nWikibooks (textbooks)\\n\\n\\n\\nWikiquote (quotations)\\n\\n\\n\\nWikisource (library)\\n\\n\\n\\nWikiversity (learning resources)\\n\\n\\n\\nCommons (media)\\n\\n\\n\\nWikivoyage (travel guide)\\n\\n\\n\\nWikinews (news source)\\n\\n\\n\\nWikidata (linked database)\\n\\n\\n\\nWikispecies (species directory)\\n\\n\\n\\nWikipedia does not have an article with this exact name. Please search for 2Migration in Wikipedia to check for alternative titles or spellings.\\nYou need to log in or create an account to create this page.\\nSearch for \"2Migration\" in existing articles.\\nLook for pages within Wikipedia that link to this title.\\n\\n\\nOther reasons this message may be displayed:\\n\\nIf a page was recently created here, it may not be visible yet because of a delay in updating the database; wait a few minutes or try the purge function.\\nTitles on Wikipedia are case sensitive except for the first character; please check alternative capitalizations and consider adding a redirect here to the correct title.\\nIf the page has been deleted, check the deletion log, and see Why was the page I created deleted?.\\n\\n\\n\\nRetrieved from \"https://en.wikipedia.org/wiki/2Migration\"',\n",
       "  '\\n\\nLook for 3Life sketch on one of Wikipedia\\'s sister projects:\\n\\n\\n\\n\\nWiktionary (dictionary)\\n\\n\\n\\nWikibooks (textbooks)\\n\\n\\n\\nWikiquote (quotations)\\n\\n\\n\\nWikisource (library)\\n\\n\\n\\nWikiversity (learning resources)\\n\\n\\n\\nCommons (media)\\n\\n\\n\\nWikivoyage (travel guide)\\n\\n\\n\\nWikinews (news source)\\n\\n\\n\\nWikidata (linked database)\\n\\n\\n\\nWikispecies (species directory)\\n\\n\\n\\nWikipedia does not have an article with this exact name. Please search for 3Life sketch in Wikipedia to check for alternative titles or spellings.\\nYou need to log in or create an account to create this page.\\nSearch for \"3Life sketch\" in existing articles.\\nLook for pages within Wikipedia that link to this title.\\n\\n\\nOther reasons this message may be displayed:\\n\\nIf a page was recently created here, it may not be visible yet because of a delay in updating the database; wait a few minutes or try the purge function.\\nTitles on Wikipedia are case sensitive except for the first character; please check alternative capitalizations and consider adding a redirect here to the correct title.\\nIf the page has been deleted, check the deletion log, and see Why was the page I created deleted?.\\n\\n\\n\\nRetrieved from \"https://en.wikipedia.org/wiki/3Life_sketch\"',\n",
       "  '\\n\\nLook for 4Marriage and children on one of Wikipedia\\'s sister projects:\\n\\n\\n\\n\\nWiktionary (dictionary)\\n\\n\\n\\nWikibooks (textbooks)\\n\\n\\n\\nWikiquote (quotations)\\n\\n\\n\\nWikisource (library)\\n\\n\\n\\nWikiversity (learning resources)\\n\\n\\n\\nCommons (media)\\n\\n\\n\\nWikivoyage (travel guide)\\n\\n\\n\\nWikinews (news source)\\n\\n\\n\\nWikidata (linked database)\\n\\n\\n\\nWikispecies (species directory)\\n\\n\\n\\nWikipedia does not have an article with this exact name. Please search for 4Marriage and children in Wikipedia to check for alternative titles or spellings.\\nYou need to log in or create an account to create this page.\\nSearch for \"4Marriage and children\" in existing articles.\\nLook for pages within Wikipedia that link to this title.\\n\\n\\nOther reasons this message may be displayed:\\n\\nIf a page was recently created here, it may not be visible yet because of a delay in updating the database; wait a few minutes or try the purge function.\\nTitles on Wikipedia are case sensitive except for the first character; please check alternative capitalizations and consider adding a redirect here to the correct title.\\nIf the page has been deleted, check the deletion log, and see Why was the page I created deleted?.\\n\\n\\n\\nRetrieved from \"https://en.wikipedia.org/wiki/4Marriage_and_children\"',\n",
       "  '\\n\\nLook for 5Children on one of Wikipedia\\'s sister projects:\\n\\n\\n\\n\\nWiktionary (dictionary)\\n\\n\\n\\nWikibooks (textbooks)\\n\\n\\n\\nWikiquote (quotations)\\n\\n\\n\\nWikisource (library)\\n\\n\\n\\nWikiversity (learning resources)\\n\\n\\n\\nCommons (media)\\n\\n\\n\\nWikivoyage (travel guide)\\n\\n\\n\\nWikinews (news source)\\n\\n\\n\\nWikidata (linked database)\\n\\n\\n\\nWikispecies (species directory)\\n\\n\\n\\nWikipedia does not have an article with this exact name. Please search for 5Children in Wikipedia to check for alternative titles or spellings.\\nYou need to log in or create an account to create this page.\\nSearch for \"5Children\" in existing articles.\\nLook for pages within Wikipedia that link to this title.\\n\\n\\nOther reasons this message may be displayed:\\n\\nIf a page was recently created here, it may not be visible yet because of a delay in updating the database; wait a few minutes or try the purge function.\\nTitles on Wikipedia are case sensitive except for the first character; please check alternative capitalizations and consider adding a redirect here to the correct title.\\nIf the page has been deleted, check the deletion log, and see Why was the page I created deleted?.\\n\\n\\n\\nRetrieved from \"https://en.wikipedia.org/wiki/5Children\"',\n",
       "  '\\n\\nLook for 6Spiritual deputies on one of Wikipedia\\'s sister projects:\\n\\n\\n\\n\\nWiktionary (dictionary)\\n\\n\\n\\nWikibooks (textbooks)\\n\\n\\n\\nWikiquote (quotations)\\n\\n\\n\\nWikisource (library)\\n\\n\\n\\nWikiversity (learning resources)\\n\\n\\n\\nCommons (media)\\n\\n\\n\\nWikivoyage (travel guide)\\n\\n\\n\\nWikinews (news source)\\n\\n\\n\\nWikidata (linked database)\\n\\n\\n\\nWikispecies (species directory)\\n\\n\\n\\nWikipedia does not have an article with this exact name. Please search for 6Spiritual deputies in Wikipedia to check for alternative titles or spellings.\\nYou need to log in or create an account to create this page.\\nSearch for \"6Spiritual deputies\" in existing articles.\\nLook for pages within Wikipedia that link to this title.\\n\\n\\nOther reasons this message may be displayed:\\n\\nIf a page was recently created here, it may not be visible yet because of a delay in updating the database; wait a few minutes or try the purge function.\\nTitles on Wikipedia are case sensitive except for the first character; please check alternative capitalizations and consider adding a redirect here to the correct title.\\nIf the page has been deleted, check the deletion log, and see Why was the page I created deleted?.\\n\\n\\n\\nRetrieved from \"https://en.wikipedia.org/wiki/6Spiritual_deputies\"',\n",
       "  '\\n\\nLook for 7Works on one of Wikipedia\\'s sister projects:\\n\\n\\n\\n\\nWiktionary (dictionary)\\n\\n\\n\\nWikibooks (textbooks)\\n\\n\\n\\nWikiquote (quotations)\\n\\n\\n\\nWikisource (library)\\n\\n\\n\\nWikiversity (learning resources)\\n\\n\\n\\nCommons (media)\\n\\n\\n\\nWikivoyage (travel guide)\\n\\n\\n\\nWikinews (news source)\\n\\n\\n\\nWikidata (linked database)\\n\\n\\n\\nWikispecies (species directory)\\n\\n\\n\\nWikipedia does not have an article with this exact name. Please search for 7Works in Wikipedia to check for alternative titles or spellings.\\nYou need to log in or create an account to create this page.\\nSearch for \"7Works\" in existing articles.\\nLook for pages within Wikipedia that link to this title.\\n\\n\\nOther reasons this message may be displayed:\\n\\nIf a page was recently created here, it may not be visible yet because of a delay in updating the database; wait a few minutes or try the purge function.\\nTitles on Wikipedia are case sensitive except for the first character; please check alternative capitalizations and consider adding a redirect here to the correct title.\\nIf the page has been deleted, check the deletion log, and see Why was the page I created deleted?.\\n\\n\\n\\nRetrieved from \"https://en.wikipedia.org/wiki/7Works\"',\n",
       "  '\\n\\nLook for 8See also on one of Wikipedia\\'s sister projects:\\n\\n\\n\\n\\nWiktionary (dictionary)\\n\\n\\n\\nWikibooks (textbooks)\\n\\n\\n\\nWikiquote (quotations)\\n\\n\\n\\nWikisource (library)\\n\\n\\n\\nWikiversity (learning resources)\\n\\n\\n\\nCommons (media)\\n\\n\\n\\nWikivoyage (travel guide)\\n\\n\\n\\nWikinews (news source)\\n\\n\\n\\nWikidata (linked database)\\n\\n\\n\\nWikispecies (species directory)\\n\\n\\n\\nWikipedia does not have an article with this exact name. Please search for 8See also in Wikipedia to check for alternative titles or spellings.\\nYou need to log in or create an account to create this page.\\nSearch for \"8See also\" in existing articles.\\nLook for pages within Wikipedia that link to this title.\\n\\n\\nOther reasons this message may be displayed:\\n\\nIf a page was recently created here, it may not be visible yet because of a delay in updating the database; wait a few minutes or try the purge function.\\nTitles on Wikipedia are case sensitive except for the first character; please check alternative capitalizations and consider adding a redirect here to the correct title.\\nIf the page has been deleted, check the deletion log, and see Why was the page I created deleted?.\\n\\n\\n\\nRetrieved from \"https://en.wikipedia.org/wiki/8See_also\"',\n",
       "  '\\n\\nLook for 9References on one of Wikipedia\\'s sister projects:\\n\\n\\n\\n\\nWiktionary (dictionary)\\n\\n\\n\\nWikibooks (textbooks)\\n\\n\\n\\nWikiquote (quotations)\\n\\n\\n\\nWikisource (library)\\n\\n\\n\\nWikiversity (learning resources)\\n\\n\\n\\nCommons (media)\\n\\n\\n\\nWikivoyage (travel guide)\\n\\n\\n\\nWikinews (news source)\\n\\n\\n\\nWikidata (linked database)\\n\\n\\n\\nWikispecies (species directory)\\n\\n\\n\\nWikipedia does not have an article with this exact name. Please search for 9References in Wikipedia to check for alternative titles or spellings.\\nYou need to log in or create an account to create this page.\\nSearch for \"9References\" in existing articles.\\nLook for pages within Wikipedia that link to this title.\\n\\n\\nOther reasons this message may be displayed:\\n\\nIf a page was recently created here, it may not be visible yet because of a delay in updating the database; wait a few minutes or try the purge function.\\nTitles on Wikipedia are case sensitive except for the first character; please check alternative capitalizations and consider adding a redirect here to the correct title.\\nIf the page has been deleted, check the deletion log, and see Why was the page I created deleted?.\\n\\n\\n\\nRetrieved from \"https://en.wikipedia.org/wiki/9References\"',\n",
       "  '\\n\\nLook for 10External links on one of Wikipedia\\'s sister projects:\\n\\n\\n\\n\\nWiktionary (dictionary)\\n\\n\\n\\nWikibooks (textbooks)\\n\\n\\n\\nWikiquote (quotations)\\n\\n\\n\\nWikisource (library)\\n\\n\\n\\nWikiversity (learning resources)\\n\\n\\n\\nCommons (media)\\n\\n\\n\\nWikivoyage (travel guide)\\n\\n\\n\\nWikinews (news source)\\n\\n\\n\\nWikidata (linked database)\\n\\n\\n\\nWikispecies (species directory)\\n\\n\\n\\nWikipedia does not have an article with this exact name. Please search for 10External links in Wikipedia to check for alternative titles or spellings.\\nYou need to log in or create an account to create this page.\\nSearch for \"10External links\" in existing articles.\\nLook for pages within Wikipedia that link to this title.\\n\\n\\nOther reasons this message may be displayed:\\n\\nIf a page was recently created here, it may not be visible yet because of a delay in updating the database; wait a few minutes or try the purge function.\\nTitles on Wikipedia are case sensitive except for the first character; please check alternative capitalizations and consider adding a redirect here to the correct title.\\nIf the page has been deleted, check the deletion log, and see Why was the page I created deleted?.\\n\\n\\n\\nRetrieved from \"https://en.wikipedia.org/wiki/10External_links\"']}"
      ]
     },
     "execution_count": 65,
     "metadata": {},
     "output_type": "execute_result"
    }
   ],
   "source": [
    "all_data"
   ]
  },
  {
   "cell_type": "code",
   "execution_count": 66,
   "id": "43ceec60",
   "metadata": {},
   "outputs": [],
   "source": [
    "\n",
    "df = pd.DataFrame(all_data)\n",
    "df.to_csv(\"Assignment_File_Scrapped_data.csv\")"
   ]
  },
  {
   "cell_type": "code",
   "execution_count": null,
   "id": "19a6ac17",
   "metadata": {},
   "outputs": [],
   "source": []
  }
 ],
 "metadata": {
  "kernelspec": {
   "display_name": "Python 3 (ipykernel)",
   "language": "python",
   "name": "python3"
  },
  "language_info": {
   "codemirror_mode": {
    "name": "ipython",
    "version": 3
   },
   "file_extension": ".py",
   "mimetype": "text/x-python",
   "name": "python",
   "nbconvert_exporter": "python",
   "pygments_lexer": "ipython3",
   "version": "3.9.7"
  }
 },
 "nbformat": 4,
 "nbformat_minor": 5
}
